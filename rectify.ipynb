{
 "cells": [
  {
   "cell_type": "code",
   "execution_count": 1,
   "metadata": {},
   "outputs": [],
   "source": [
    "import os\n",
    "import re\n",
    "import glob\n",
    "\n",
    "import numpy as np\n",
    "import pandas as pd\n",
    "import matplotlib.pyplot as plt\n",
    "import cv2\n",
    "\n",
    "plt.rcParams['figure.figsize'] = (50, 10)\n",
    "#%matplotlib inline"
   ]
  },
  {
   "cell_type": "code",
   "execution_count": 3,
   "metadata": {},
   "outputs": [],
   "source": [
    "DIST_COEF = (-2.05e-5, 0, 0, 0)\n",
    "height, width = img_rgb.shape[:2]"
   ]
  },
  {
   "cell_type": "code",
   "execution_count": 4,
   "metadata": {},
   "outputs": [],
   "source": [
    "c_x = width / 2\n",
    "c_y = height / 2  \n",
    "f_x = 10\n",
    "f_y = 10\n",
    "f = 10"
   ]
  },
  {
   "cell_type": "code",
   "execution_count": 5,
   "metadata": {},
   "outputs": [],
   "source": [
    "intrinsic_mat =  np.array([[f_x, 0.0, c_x ],\n",
    "                           [0.0, f_y, c_y],\n",
    "                           [0.0, 0.0, 1.0]])"
   ]
  },
  {
   "cell_type": "code",
   "execution_count": 46,
   "metadata": {},
   "outputs": [
    {
     "name": "stdout",
     "output_type": "stream",
     "text": [
      "['133216_М443РР10']\n"
     ]
    }
   ],
   "source": [
    "trucks = os.listdir('part_1/02/')\n",
    "trucks.remove('.DS_Store')\n",
    "print(trucks)"
   ]
  },
  {
   "cell_type": "code",
   "execution_count": 47,
   "metadata": {},
   "outputs": [
    {
     "name": "stdout",
     "output_type": "stream",
     "text": [
      "part_1/02/133216_М443РР10\n"
     ]
    }
   ],
   "source": [
    "for truck in trucks:\n",
    "    path1 = f'part_1/02/{truck}'\n",
    "    path2 = f'part_1/02/{truck}/FrameJPG'\n",
    "    path3 = f'part_1/02/{truck}/FrontJPG'\n",
    "    \n",
    "    arr1 = os.listdir(path1)\n",
    "    arr2 = os.listdir(path2)\n",
    "    arr3 = os.listdir(path3)\n",
    "    print(path1)\n",
    "    for filename in arr1:\n",
    "        if 'frame_left' in filename or 'frame_right' in filename or 'frame_top' in filename:\n",
    "            stream = open(f'{path1}/{filename}', \"rb\")\n",
    "            bytes = bytearray(stream.read())\n",
    "            numpyarray = np.asarray(bytes, dtype=np.uint8)\n",
    "            img = cv2.imdecode(numpyarray, cv2.IMREAD_UNCHANGED)\n",
    "            undistorted = cv2.undistort(img, intrinsic_mat,\n",
    "                                        DIST_COEF)\n",
    "            is_success, im_buf_arr = cv2.imencode(\".jpg\", undistorted)\n",
    "            im_buf_arr.tofile(f'{path1}/{filename}')\n",
    "            \n",
    "    for filename in arr2:\n",
    "        if 'framefr' in filename or 'frameup' in filename:\n",
    "            stream = open(f'{path2}/{filename}', \"rb\")\n",
    "            bytes = bytearray(stream.read())\n",
    "            numpyarray = np.asarray(bytes, dtype=np.uint8)\n",
    "            img = cv2.imdecode(numpyarray, cv2.IMREAD_UNCHANGED)\n",
    "            undistorted = cv2.undistort(img, intrinsic_mat,\n",
    "                                        DIST_COEF)\n",
    "            is_success, im_buf_arr = cv2.imencode(\".jpg\", undistorted)\n",
    "            im_buf_arr.tofile(f'{path2}/{filename}')\n",
    "\n",
    "    for filename in arr3:\n",
    "        stream = open(f'{path3}/{filename}', \"rb\")\n",
    "        bytes = bytearray(stream.read())\n",
    "        numpyarray = np.asarray(bytes, dtype=np.uint8)\n",
    "        img = cv2.imdecode(numpyarray, cv2.IMREAD_UNCHANGED)\n",
    "        undistorted = cv2.undistort(img, intrinsic_mat,\n",
    "                                    DIST_COEF)\n",
    "        is_success, im_buf_arr = cv2.imencode(\".jpg\", undistorted)\n",
    "        im_buf_arr.tofile(f'{path3}/{filename}')\n",
    "    "
   ]
  },
  {
   "cell_type": "markdown",
   "metadata": {},
   "source": [
    "# К каким фотографиям применять антидисторшн?\n",
    "frame_left, frame_right, frame_top\n",
    "\n",
    "FrameJPG/framefr, FrameJPG/frameup\n",
    "\n",
    "FrontJPG/front\n",
    "\n",
    "\n",
    "**Нужно еще сделать даунсемпл фотографий**"
   ]
  },
  {
   "cell_type": "code",
   "execution_count": null,
   "metadata": {},
   "outputs": [],
   "source": []
  }
 ],
 "metadata": {
  "kernelspec": {
   "display_name": "Python 3",
   "language": "python",
   "name": "python3"
  },
  "language_info": {
   "codemirror_mode": {
    "name": "ipython",
    "version": 3
   },
   "file_extension": ".py",
   "mimetype": "text/x-python",
   "name": "python",
   "nbconvert_exporter": "python",
   "pygments_lexer": "ipython3",
   "version": "3.7.3"
  }
 },
 "nbformat": 4,
 "nbformat_minor": 2
}
